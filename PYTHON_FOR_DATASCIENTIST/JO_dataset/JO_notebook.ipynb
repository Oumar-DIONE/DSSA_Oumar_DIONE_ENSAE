{
 "cells": [
  {
   "cell_type": "code",
   "execution_count": 1,
   "metadata": {},
   "outputs": [],
   "source": [
    "import numpy as np\n",
    "import pandas as pd\n",
    "import matplotlib.pyplot as plt\n",
    "import seaborn as sn"
   ]
  },
  {
   "cell_type": "code",
   "execution_count": 2,
   "metadata": {},
   "outputs": [
    {
     "name": "stdout",
     "output_type": "stream",
     "text": [
      "Bonjour Bienvenu dans ce nouveau projet Data Scientiste\n"
     ]
    }
   ],
   "source": [
    "print(\"Bonjour Bienvenu dans ce nouveau projet Data Scientiste\")"
   ]
  },
  {
   "cell_type": "code",
   "execution_count": 3,
   "metadata": {},
   "outputs": [
    {
     "data": {
      "text/plain": [
       "(271116, 15)"
      ]
     },
     "execution_count": 3,
     "metadata": {},
     "output_type": "execute_result"
    }
   ],
   "source": [
    "dataset=pd.read_csv(\"athlete_events.csv\")\n",
    "dataset.columns\n",
    "dataset.shape"
   ]
  },
  {
   "cell_type": "code",
   "execution_count": 10,
   "metadata": {},
   "outputs": [
    {
     "data": {
      "text/html": [
       "<div>\n",
       "<style scoped>\n",
       "    .dataframe tbody tr th:only-of-type {\n",
       "        vertical-align: middle;\n",
       "    }\n",
       "\n",
       "    .dataframe tbody tr th {\n",
       "        vertical-align: top;\n",
       "    }\n",
       "\n",
       "    .dataframe thead th {\n",
       "        text-align: right;\n",
       "    }\n",
       "</style>\n",
       "<table border=\"1\" class=\"dataframe\">\n",
       "  <thead>\n",
       "    <tr style=\"text-align: right;\">\n",
       "      <th></th>\n",
       "      <th>ID</th>\n",
       "      <th>Name</th>\n",
       "      <th>Sex</th>\n",
       "      <th>Age</th>\n",
       "      <th>Height</th>\n",
       "      <th>Weight</th>\n",
       "      <th>Team</th>\n",
       "      <th>NOC</th>\n",
       "      <th>Games</th>\n",
       "      <th>Year</th>\n",
       "      <th>Season</th>\n",
       "      <th>City</th>\n",
       "      <th>Sport</th>\n",
       "      <th>Event</th>\n",
       "      <th>Medal</th>\n",
       "    </tr>\n",
       "  </thead>\n",
       "  <tbody>\n",
       "    <tr>\n",
       "      <th>0</th>\n",
       "      <td>1</td>\n",
       "      <td>A Dijiang</td>\n",
       "      <td>M</td>\n",
       "      <td>24.0</td>\n",
       "      <td>180.0</td>\n",
       "      <td>80.0</td>\n",
       "      <td>China</td>\n",
       "      <td>CHN</td>\n",
       "      <td>1992 Summer</td>\n",
       "      <td>1992</td>\n",
       "      <td>Summer</td>\n",
       "      <td>Barcelona</td>\n",
       "      <td>Basketball</td>\n",
       "      <td>Basketball Men's Basketball</td>\n",
       "      <td>NaN</td>\n",
       "    </tr>\n",
       "    <tr>\n",
       "      <th>1</th>\n",
       "      <td>2</td>\n",
       "      <td>A Lamusi</td>\n",
       "      <td>M</td>\n",
       "      <td>23.0</td>\n",
       "      <td>170.0</td>\n",
       "      <td>60.0</td>\n",
       "      <td>China</td>\n",
       "      <td>CHN</td>\n",
       "      <td>2012 Summer</td>\n",
       "      <td>2012</td>\n",
       "      <td>Summer</td>\n",
       "      <td>London</td>\n",
       "      <td>Judo</td>\n",
       "      <td>Judo Men's Extra-Lightweight</td>\n",
       "      <td>NaN</td>\n",
       "    </tr>\n",
       "    <tr>\n",
       "      <th>2</th>\n",
       "      <td>3</td>\n",
       "      <td>Gunnar Nielsen Aaby</td>\n",
       "      <td>M</td>\n",
       "      <td>24.0</td>\n",
       "      <td>NaN</td>\n",
       "      <td>NaN</td>\n",
       "      <td>Denmark</td>\n",
       "      <td>DEN</td>\n",
       "      <td>1920 Summer</td>\n",
       "      <td>1920</td>\n",
       "      <td>Summer</td>\n",
       "      <td>Antwerpen</td>\n",
       "      <td>Football</td>\n",
       "      <td>Football Men's Football</td>\n",
       "      <td>NaN</td>\n",
       "    </tr>\n",
       "  </tbody>\n",
       "</table>\n",
       "</div>"
      ],
      "text/plain": [
       "   ID                 Name Sex   Age  Height  Weight     Team  NOC  \\\n",
       "0   1            A Dijiang   M  24.0   180.0    80.0    China  CHN   \n",
       "1   2             A Lamusi   M  23.0   170.0    60.0    China  CHN   \n",
       "2   3  Gunnar Nielsen Aaby   M  24.0     NaN     NaN  Denmark  DEN   \n",
       "\n",
       "         Games  Year  Season       City       Sport  \\\n",
       "0  1992 Summer  1992  Summer  Barcelona  Basketball   \n",
       "1  2012 Summer  2012  Summer     London        Judo   \n",
       "2  1920 Summer  1920  Summer  Antwerpen    Football   \n",
       "\n",
       "                          Event Medal  \n",
       "0   Basketball Men's Basketball   NaN  \n",
       "1  Judo Men's Extra-Lightweight   NaN  \n",
       "2       Football Men's Football   NaN  "
      ]
     },
     "execution_count": 10,
     "metadata": {},
     "output_type": "execute_result"
    }
   ],
   "source": [
    "dataset.head(3)\n"
   ]
  },
  {
   "cell_type": "markdown",
   "metadata": {},
   "source": [
    "LECTURE "
   ]
  },
  {
   "cell_type": "code",
   "execution_count": 4,
   "metadata": {},
   "outputs": [
    {
     "data": {
      "text/html": [
       "<div>\n",
       "<style scoped>\n",
       "    .dataframe tbody tr th:only-of-type {\n",
       "        vertical-align: middle;\n",
       "    }\n",
       "\n",
       "    .dataframe tbody tr th {\n",
       "        vertical-align: top;\n",
       "    }\n",
       "\n",
       "    .dataframe thead th {\n",
       "        text-align: right;\n",
       "    }\n",
       "</style>\n",
       "<table border=\"1\" class=\"dataframe\">\n",
       "  <thead>\n",
       "    <tr style=\"text-align: right;\">\n",
       "      <th></th>\n",
       "      <th>Sex</th>\n",
       "      <th>Age</th>\n",
       "      <th>Height</th>\n",
       "      <th>Weight</th>\n",
       "      <th>Team</th>\n",
       "      <th>NOC</th>\n",
       "      <th>Games</th>\n",
       "      <th>Year</th>\n",
       "      <th>Season</th>\n",
       "      <th>City</th>\n",
       "      <th>Sport</th>\n",
       "      <th>Event</th>\n",
       "      <th>Medal</th>\n",
       "    </tr>\n",
       "    <tr>\n",
       "      <th>Name</th>\n",
       "      <th></th>\n",
       "      <th></th>\n",
       "      <th></th>\n",
       "      <th></th>\n",
       "      <th></th>\n",
       "      <th></th>\n",
       "      <th></th>\n",
       "      <th></th>\n",
       "      <th></th>\n",
       "      <th></th>\n",
       "      <th></th>\n",
       "      <th></th>\n",
       "      <th></th>\n",
       "    </tr>\n",
       "  </thead>\n",
       "  <tbody>\n",
       "    <tr>\n",
       "      <th>A Dijiang</th>\n",
       "      <td>M</td>\n",
       "      <td>24.0</td>\n",
       "      <td>180.0</td>\n",
       "      <td>80.0</td>\n",
       "      <td>China</td>\n",
       "      <td>CHN</td>\n",
       "      <td>1992 Summer</td>\n",
       "      <td>1992</td>\n",
       "      <td>Summer</td>\n",
       "      <td>Barcelona</td>\n",
       "      <td>Basketball</td>\n",
       "      <td>Basketball Men's Basketball</td>\n",
       "      <td>NaN</td>\n",
       "    </tr>\n",
       "    <tr>\n",
       "      <th>A Lamusi</th>\n",
       "      <td>M</td>\n",
       "      <td>23.0</td>\n",
       "      <td>170.0</td>\n",
       "      <td>60.0</td>\n",
       "      <td>China</td>\n",
       "      <td>CHN</td>\n",
       "      <td>2012 Summer</td>\n",
       "      <td>2012</td>\n",
       "      <td>Summer</td>\n",
       "      <td>London</td>\n",
       "      <td>Judo</td>\n",
       "      <td>Judo Men's Extra-Lightweight</td>\n",
       "      <td>NaN</td>\n",
       "    </tr>\n",
       "    <tr>\n",
       "      <th>Gunnar Nielsen Aaby</th>\n",
       "      <td>M</td>\n",
       "      <td>24.0</td>\n",
       "      <td>NaN</td>\n",
       "      <td>NaN</td>\n",
       "      <td>Denmark</td>\n",
       "      <td>DEN</td>\n",
       "      <td>1920 Summer</td>\n",
       "      <td>1920</td>\n",
       "      <td>Summer</td>\n",
       "      <td>Antwerpen</td>\n",
       "      <td>Football</td>\n",
       "      <td>Football Men's Football</td>\n",
       "      <td>NaN</td>\n",
       "    </tr>\n",
       "    <tr>\n",
       "      <th>Edgar Lindenau Aabye</th>\n",
       "      <td>M</td>\n",
       "      <td>34.0</td>\n",
       "      <td>NaN</td>\n",
       "      <td>NaN</td>\n",
       "      <td>Denmark/Sweden</td>\n",
       "      <td>DEN</td>\n",
       "      <td>1900 Summer</td>\n",
       "      <td>1900</td>\n",
       "      <td>Summer</td>\n",
       "      <td>Paris</td>\n",
       "      <td>Tug-Of-War</td>\n",
       "      <td>Tug-Of-War Men's Tug-Of-War</td>\n",
       "      <td>Gold</td>\n",
       "    </tr>\n",
       "  </tbody>\n",
       "</table>\n",
       "</div>"
      ],
      "text/plain": [
       "                     Sex   Age  Height  Weight            Team  NOC  \\\n",
       "Name                                                                  \n",
       "A Dijiang              M  24.0   180.0    80.0           China  CHN   \n",
       "A Lamusi               M  23.0   170.0    60.0           China  CHN   \n",
       "Gunnar Nielsen Aaby    M  24.0     NaN     NaN         Denmark  DEN   \n",
       "Edgar Lindenau Aabye   M  34.0     NaN     NaN  Denmark/Sweden  DEN   \n",
       "\n",
       "                            Games  Year  Season       City       Sport  \\\n",
       "Name                                                                     \n",
       "A Dijiang             1992 Summer  1992  Summer  Barcelona  Basketball   \n",
       "A Lamusi              2012 Summer  2012  Summer     London        Judo   \n",
       "Gunnar Nielsen Aaby   1920 Summer  1920  Summer  Antwerpen    Football   \n",
       "Edgar Lindenau Aabye  1900 Summer  1900  Summer      Paris  Tug-Of-War   \n",
       "\n",
       "                                             Event Medal  \n",
       "Name                                                      \n",
       "A Dijiang              Basketball Men's Basketball   NaN  \n",
       "A Lamusi              Judo Men's Extra-Lightweight   NaN  \n",
       "Gunnar Nielsen Aaby        Football Men's Football   NaN  \n",
       "Edgar Lindenau Aabye   Tug-Of-War Men's Tug-Of-War  Gold  "
      ]
     },
     "execution_count": 4,
     "metadata": {},
     "output_type": "execute_result"
    }
   ],
   "source": [
    "df=pd.read_csv(\"athlete_events.csv\",index_col=[0],usecols=[i for i in range(1,15)])\n",
    "df.head(4) "
   ]
  },
  {
   "cell_type": "code",
   "execution_count": 5,
   "metadata": {},
   "outputs": [
    {
     "data": {
      "text/plain": [
       "(271116, 13)"
      ]
     },
     "execution_count": 5,
     "metadata": {},
     "output_type": "execute_result"
    }
   ],
   "source": [
    "nbre_ligne, nbre_col= df.shape\n",
    "nbre_ligne,nbre_col"
   ]
  },
  {
   "cell_type": "code",
   "execution_count": 6,
   "metadata": {},
   "outputs": [
    {
     "data": {
      "text/plain": [
       "Sex        object\n",
       "Age       float64\n",
       "Height    float64\n",
       "Weight    float64\n",
       "Team       object\n",
       "NOC        object\n",
       "Games      object\n",
       "Year        int64\n",
       "Season     object\n",
       "City       object\n",
       "Sport      object\n",
       "Event      object\n",
       "Medal      object\n",
       "dtype: object"
      ]
     },
     "execution_count": 6,
     "metadata": {},
     "output_type": "execute_result"
    }
   ],
   "source": [
    "les_types=df.dtypes\n",
    "les_types"
   ]
  },
  {
   "cell_type": "code",
   "execution_count": 7,
   "metadata": {},
   "outputs": [
    {
     "data": {
      "text/plain": [
       "Index(['Sex', 'Age', 'Height', 'Weight', 'Team', 'NOC', 'Games', 'Year',\n",
       "       'Season', 'City', 'Sport', 'Event', 'Medal'],\n",
       "      dtype='object')"
      ]
     },
     "execution_count": 7,
     "metadata": {},
     "output_type": "execute_result"
    }
   ],
   "source": [
    "nom_des_variables=df.columns\n",
    "nom_des_variables"
   ]
  },
  {
   "cell_type": "code",
   "execution_count": 8,
   "metadata": {},
   "outputs": [
    {
     "data": {
      "text/plain": [
       "array(['Sex', 'Team', 'NOC', 'Games', 'Season', 'City', 'Sport', 'Event',\n",
       "       'Medal'], dtype=object)"
      ]
     },
     "execution_count": 8,
     "metadata": {},
     "output_type": "execute_result"
    }
   ],
   "source": [
    "feature_num=df.columns.values[(df.dtypes == \"float64\").values | (df.dtypes == \"int64\").values]\n",
    "feature_objet=df.columns.values[~((df.dtypes == \"float64\").values | (df.dtypes == \"int64\").values)]\n",
    "feature_objet"
   ]
  },
  {
   "cell_type": "code",
   "execution_count": 9,
   "metadata": {},
   "outputs": [
    {
     "data": {
      "text/plain": [
       "Index(['Sex', 'Age', 'Height', 'Weight', 'Team', 'NOC', 'Games', 'Year',\n",
       "       'Season', 'City', 'Sport', 'Event', 'Medal'],\n",
       "      dtype='object')"
      ]
     },
     "execution_count": 9,
     "metadata": {},
     "output_type": "execute_result"
    }
   ],
   "source": [
    "nom_des_variables"
   ]
  },
  {
   "cell_type": "markdown",
   "metadata": {},
   "source": [
    "Etude  des duplications"
   ]
  },
  {
   "cell_type": "code",
   "execution_count": 13,
   "metadata": {},
   "outputs": [
    {
     "data": {
      "text/plain": [
       "11256"
      ]
     },
     "execution_count": 13,
     "metadata": {},
     "output_type": "execute_result"
    }
   ],
   "source": [
    "df.duplicated().sum()"
   ]
  },
  {
   "cell_type": "code",
   "execution_count": 35,
   "metadata": {},
   "outputs": [],
   "source": [
    "table=np.array([[27,15,26,25,25,13],[\"Oumar\",\"Moussa\",\"Aida\",\"Ousmane\",\"Fatou\",\"Maimouna\"]])\n",
    "table=table.transpose()"
   ]
  },
  {
   "cell_type": "code",
   "execution_count": 46,
   "metadata": {},
   "outputs": [
    {
     "name": "stderr",
     "output_type": "stream",
     "text": [
      "C:\\Users\\DIONE Oumar\\AppData\\Local\\Temp\\ipykernel_20280\\912182192.py:3: UserWarning: Pandas doesn't allow columns to be created via a new attribute name - see https://pandas.pydata.org/pandas-docs/stable/indexing.html#attribute-access\n",
      "  df_test.col1= df_test['Age'].astype(float)\n"
     ]
    },
    {
     "data": {
      "text/plain": [
       "5"
      ]
     },
     "execution_count": 46,
     "metadata": {},
     "output_type": "execute_result"
    }
   ],
   "source": [
    "df_test=pd.DataFrame(table,columns=(\"Age\",\"Nom\"), index=[\"a1\",\"a2\",\"a3\",\"a4\",\"a5\",\"a6\"])\n",
    "df_test.dtypes\n",
    "df_test.col1= df_test['Age'].astype(float)\n",
    "df_test.dtypes\n",
    "df_test.duplicated().sum()\n",
    "df_test.duplicated(subset=\"Age\").sum()\n",
    "df_test['pays']='Sénégal'\n",
    "df_test.duplicated().sum()\n",
    "df_test\n",
    "df_test.duplicated(subset='pays').sum()\n",
    "\n",
    "\n",
    "\n",
    "\n",
    "#df_test\n",
    "#df_test.loc[]\n",
    "\n"
   ]
  },
  {
   "cell_type": "code",
   "execution_count": 47,
   "metadata": {},
   "outputs": [
    {
     "data": {
      "text/plain": [
       "11256"
      ]
     },
     "execution_count": 47,
     "metadata": {},
     "output_type": "execute_result"
    }
   ],
   "source": [
    "nbre_de_ligne_dupliques=df.duplicated(subset=nom_des_variables).sum()\n",
    "nbre_de_ligne_dupliques"
   ]
  },
  {
   "cell_type": "code",
   "execution_count": 49,
   "metadata": {},
   "outputs": [
    {
     "data": {
      "text/html": [
       "<div>\n",
       "<style scoped>\n",
       "    .dataframe tbody tr th:only-of-type {\n",
       "        vertical-align: middle;\n",
       "    }\n",
       "\n",
       "    .dataframe tbody tr th {\n",
       "        vertical-align: top;\n",
       "    }\n",
       "\n",
       "    .dataframe thead th {\n",
       "        text-align: right;\n",
       "    }\n",
       "</style>\n",
       "<table border=\"1\" class=\"dataframe\">\n",
       "  <thead>\n",
       "    <tr style=\"text-align: right;\">\n",
       "      <th></th>\n",
       "      <th>Sex</th>\n",
       "      <th>Age</th>\n",
       "      <th>Height</th>\n",
       "      <th>Weight</th>\n",
       "      <th>Team</th>\n",
       "      <th>NOC</th>\n",
       "      <th>Games</th>\n",
       "      <th>Year</th>\n",
       "      <th>Season</th>\n",
       "      <th>City</th>\n",
       "      <th>Sport</th>\n",
       "      <th>Event</th>\n",
       "      <th>Medal</th>\n",
       "    </tr>\n",
       "    <tr>\n",
       "      <th>Name</th>\n",
       "      <th></th>\n",
       "      <th></th>\n",
       "      <th></th>\n",
       "      <th></th>\n",
       "      <th></th>\n",
       "      <th></th>\n",
       "      <th></th>\n",
       "      <th></th>\n",
       "      <th></th>\n",
       "      <th></th>\n",
       "      <th></th>\n",
       "      <th></th>\n",
       "      <th></th>\n",
       "    </tr>\n",
       "  </thead>\n",
       "  <tbody>\n",
       "    <tr>\n",
       "      <th>Ibrahim Abdel Rahman</th>\n",
       "      <td>M</td>\n",
       "      <td>NaN</td>\n",
       "      <td>NaN</td>\n",
       "      <td>NaN</td>\n",
       "      <td>United Arab Republic</td>\n",
       "      <td>UAR</td>\n",
       "      <td>1960 Summer</td>\n",
       "      <td>1960</td>\n",
       "      <td>Summer</td>\n",
       "      <td>Roma</td>\n",
       "      <td>Water Polo</td>\n",
       "      <td>Water Polo Men's Water Polo</td>\n",
       "      <td>NaN</td>\n",
       "    </tr>\n",
       "    <tr>\n",
       "      <th>Mohamed Abdel Sami</th>\n",
       "      <td>M</td>\n",
       "      <td>NaN</td>\n",
       "      <td>NaN</td>\n",
       "      <td>NaN</td>\n",
       "      <td>United Arab Republic</td>\n",
       "      <td>UAR</td>\n",
       "      <td>1960 Summer</td>\n",
       "      <td>1960</td>\n",
       "      <td>Summer</td>\n",
       "      <td>Roma</td>\n",
       "      <td>Rowing</td>\n",
       "      <td>Rowing Men's Coxed Eights</td>\n",
       "      <td>NaN</td>\n",
       "    </tr>\n",
       "    <tr>\n",
       "      <th>Ahmed Abdo Mustafa</th>\n",
       "      <td>M</td>\n",
       "      <td>NaN</td>\n",
       "      <td>NaN</td>\n",
       "      <td>NaN</td>\n",
       "      <td>Sudan</td>\n",
       "      <td>SUD</td>\n",
       "      <td>1972 Summer</td>\n",
       "      <td>1972</td>\n",
       "      <td>Summer</td>\n",
       "      <td>Munich</td>\n",
       "      <td>Football</td>\n",
       "      <td>Football Men's Football</td>\n",
       "      <td>NaN</td>\n",
       "    </tr>\n",
       "    <tr>\n",
       "      <th>Abdel Fattah Abou-Shanab</th>\n",
       "      <td>M</td>\n",
       "      <td>28.0</td>\n",
       "      <td>NaN</td>\n",
       "      <td>NaN</td>\n",
       "      <td>Egypt</td>\n",
       "      <td>EGY</td>\n",
       "      <td>1964 Summer</td>\n",
       "      <td>1964</td>\n",
       "      <td>Summer</td>\n",
       "      <td>Tokyo</td>\n",
       "      <td>Rowing</td>\n",
       "      <td>Rowing Men's Coxed Eights</td>\n",
       "      <td>NaN</td>\n",
       "    </tr>\n",
       "    <tr>\n",
       "      <th>Haysam Farouk Abouelw</th>\n",
       "      <td>M</td>\n",
       "      <td>21.0</td>\n",
       "      <td>NaN</td>\n",
       "      <td>NaN</td>\n",
       "      <td>Egypt</td>\n",
       "      <td>EGY</td>\n",
       "      <td>1992 Summer</td>\n",
       "      <td>1992</td>\n",
       "      <td>Summer</td>\n",
       "      <td>Barcelona</td>\n",
       "      <td>Football</td>\n",
       "      <td>Football Men's Football</td>\n",
       "      <td>NaN</td>\n",
       "    </tr>\n",
       "    <tr>\n",
       "      <th>Mustapha Achab</th>\n",
       "      <td>M</td>\n",
       "      <td>22.0</td>\n",
       "      <td>NaN</td>\n",
       "      <td>NaN</td>\n",
       "      <td>Morocco</td>\n",
       "      <td>MAR</td>\n",
       "      <td>1992 Summer</td>\n",
       "      <td>1992</td>\n",
       "      <td>Summer</td>\n",
       "      <td>Barcelona</td>\n",
       "      <td>Football</td>\n",
       "      <td>Football Men's Football</td>\n",
       "      <td>NaN</td>\n",
       "    </tr>\n",
       "    <tr>\n",
       "      <th>Dsir Antoine Acket</th>\n",
       "      <td>M</td>\n",
       "      <td>27.0</td>\n",
       "      <td>NaN</td>\n",
       "      <td>NaN</td>\n",
       "      <td>Belgium</td>\n",
       "      <td>BEL</td>\n",
       "      <td>1932 Summer</td>\n",
       "      <td>1932</td>\n",
       "      <td>Summer</td>\n",
       "      <td>Los Angeles</td>\n",
       "      <td>Art Competitions</td>\n",
       "      <td>Art Competitions Mixed Painting, Unknown Event</td>\n",
       "      <td>NaN</td>\n",
       "    </tr>\n",
       "    <tr>\n",
       "      <th>Adam</th>\n",
       "      <td>M</td>\n",
       "      <td>NaN</td>\n",
       "      <td>NaN</td>\n",
       "      <td>NaN</td>\n",
       "      <td>France</td>\n",
       "      <td>FRA</td>\n",
       "      <td>1900 Summer</td>\n",
       "      <td>1900</td>\n",
       "      <td>Summer</td>\n",
       "      <td>Paris</td>\n",
       "      <td>Fencing</td>\n",
       "      <td>Fencing Men's epee, Individual</td>\n",
       "      <td>NaN</td>\n",
       "    </tr>\n",
       "    <tr>\n",
       "      <th>Masood Mirza Ahmed</th>\n",
       "      <td>M</td>\n",
       "      <td>NaN</td>\n",
       "      <td>NaN</td>\n",
       "      <td>NaN</td>\n",
       "      <td>Pakistan</td>\n",
       "      <td>PAK</td>\n",
       "      <td>1948 Summer</td>\n",
       "      <td>1948</td>\n",
       "      <td>Summer</td>\n",
       "      <td>London</td>\n",
       "      <td>Hockey</td>\n",
       "      <td>Hockey Men's Hockey</td>\n",
       "      <td>NaN</td>\n",
       "    </tr>\n",
       "    <tr>\n",
       "      <th>Konstantinos \"Kostas\" Akratopoulos</th>\n",
       "      <td>M</td>\n",
       "      <td>NaN</td>\n",
       "      <td>NaN</td>\n",
       "      <td>NaN</td>\n",
       "      <td>Greece</td>\n",
       "      <td>GRE</td>\n",
       "      <td>1896 Summer</td>\n",
       "      <td>1896</td>\n",
       "      <td>Summer</td>\n",
       "      <td>Athina</td>\n",
       "      <td>Tennis</td>\n",
       "      <td>Tennis Men's Singles</td>\n",
       "      <td>NaN</td>\n",
       "    </tr>\n",
       "  </tbody>\n",
       "</table>\n",
       "</div>"
      ],
      "text/plain": [
       "                                   Sex   Age  Height  Weight  \\\n",
       "Name                                                           \n",
       "Ibrahim Abdel Rahman                 M   NaN     NaN     NaN   \n",
       "Mohamed Abdel Sami                   M   NaN     NaN     NaN   \n",
       "Ahmed Abdo Mustafa                   M   NaN     NaN     NaN   \n",
       "Abdel Fattah Abou-Shanab             M  28.0     NaN     NaN   \n",
       "Haysam Farouk Abouelw                M  21.0     NaN     NaN   \n",
       "Mustapha Achab                       M  22.0     NaN     NaN   \n",
       "Dsir Antoine Acket                   M  27.0     NaN     NaN   \n",
       "Adam                                 M   NaN     NaN     NaN   \n",
       "Masood Mirza Ahmed                   M   NaN     NaN     NaN   \n",
       "Konstantinos \"Kostas\" Akratopoulos   M   NaN     NaN     NaN   \n",
       "\n",
       "                                                    Team  NOC        Games  \\\n",
       "Name                                                                         \n",
       "Ibrahim Abdel Rahman                United Arab Republic  UAR  1960 Summer   \n",
       "Mohamed Abdel Sami                  United Arab Republic  UAR  1960 Summer   \n",
       "Ahmed Abdo Mustafa                                 Sudan  SUD  1972 Summer   \n",
       "Abdel Fattah Abou-Shanab                           Egypt  EGY  1964 Summer   \n",
       "Haysam Farouk Abouelw                              Egypt  EGY  1992 Summer   \n",
       "Mustapha Achab                                   Morocco  MAR  1992 Summer   \n",
       "Dsir Antoine Acket                               Belgium  BEL  1932 Summer   \n",
       "Adam                                              France  FRA  1900 Summer   \n",
       "Masood Mirza Ahmed                              Pakistan  PAK  1948 Summer   \n",
       "Konstantinos \"Kostas\" Akratopoulos                Greece  GRE  1896 Summer   \n",
       "\n",
       "                                    Year  Season         City  \\\n",
       "Name                                                            \n",
       "Ibrahim Abdel Rahman                1960  Summer         Roma   \n",
       "Mohamed Abdel Sami                  1960  Summer         Roma   \n",
       "Ahmed Abdo Mustafa                  1972  Summer       Munich   \n",
       "Abdel Fattah Abou-Shanab            1964  Summer        Tokyo   \n",
       "Haysam Farouk Abouelw               1992  Summer    Barcelona   \n",
       "Mustapha Achab                      1992  Summer    Barcelona   \n",
       "Dsir Antoine Acket                  1932  Summer  Los Angeles   \n",
       "Adam                                1900  Summer        Paris   \n",
       "Masood Mirza Ahmed                  1948  Summer       London   \n",
       "Konstantinos \"Kostas\" Akratopoulos  1896  Summer       Athina   \n",
       "\n",
       "                                               Sport  \\\n",
       "Name                                                   \n",
       "Ibrahim Abdel Rahman                      Water Polo   \n",
       "Mohamed Abdel Sami                            Rowing   \n",
       "Ahmed Abdo Mustafa                          Football   \n",
       "Abdel Fattah Abou-Shanab                      Rowing   \n",
       "Haysam Farouk Abouelw                       Football   \n",
       "Mustapha Achab                              Football   \n",
       "Dsir Antoine Acket                  Art Competitions   \n",
       "Adam                                         Fencing   \n",
       "Masood Mirza Ahmed                            Hockey   \n",
       "Konstantinos \"Kostas\" Akratopoulos            Tennis   \n",
       "\n",
       "                                                                             Event  \\\n",
       "Name                                                                                 \n",
       "Ibrahim Abdel Rahman                                   Water Polo Men's Water Polo   \n",
       "Mohamed Abdel Sami                                       Rowing Men's Coxed Eights   \n",
       "Ahmed Abdo Mustafa                                         Football Men's Football   \n",
       "Abdel Fattah Abou-Shanab                                 Rowing Men's Coxed Eights   \n",
       "Haysam Farouk Abouelw                                      Football Men's Football   \n",
       "Mustapha Achab                                             Football Men's Football   \n",
       "Dsir Antoine Acket                  Art Competitions Mixed Painting, Unknown Event   \n",
       "Adam                                                Fencing Men's epee, Individual   \n",
       "Masood Mirza Ahmed                                             Hockey Men's Hockey   \n",
       "Konstantinos \"Kostas\" Akratopoulos                            Tennis Men's Singles   \n",
       "\n",
       "                                   Medal  \n",
       "Name                                      \n",
       "Ibrahim Abdel Rahman                 NaN  \n",
       "Mohamed Abdel Sami                   NaN  \n",
       "Ahmed Abdo Mustafa                   NaN  \n",
       "Abdel Fattah Abou-Shanab             NaN  \n",
       "Haysam Farouk Abouelw                NaN  \n",
       "Mustapha Achab                       NaN  \n",
       "Dsir Antoine Acket                   NaN  \n",
       "Adam                                 NaN  \n",
       "Masood Mirza Ahmed                   NaN  \n",
       "Konstantinos \"Kostas\" Akratopoulos   NaN  "
      ]
     },
     "execution_count": 49,
     "metadata": {},
     "output_type": "execute_result"
    }
   ],
   "source": [
    "# apercç de quelques lignes dupliquées\n",
    "df[df.duplicated()].head(10)"
   ]
  },
  {
   "cell_type": "code",
   "execution_count": 52,
   "metadata": {},
   "outputs": [
    {
     "data": {
      "text/plain": [
       "0"
      ]
     },
     "execution_count": 52,
     "metadata": {},
     "output_type": "execute_result"
    }
   ],
   "source": [
    "# suppression des lignes dupliquées\n",
    "donnees= df.drop_duplicates()\n",
    "donnees.duplicated().sum()"
   ]
  },
  {
   "cell_type": "markdown",
   "metadata": {},
   "source": [
    "ETUDE DE VALEURS MANQUANTES"
   ]
  },
  {
   "cell_type": "code",
   "execution_count": 56,
   "metadata": {},
   "outputs": [
    {
     "data": {
      "text/plain": [
       "Sex        0.000000\n",
       "Age        1.992996\n",
       "Height    18.965212\n",
       "Weight    20.004233\n",
       "Team       0.000000\n",
       "NOC        0.000000\n",
       "Games      0.000000\n",
       "Year       0.000000\n",
       "Season     0.000000\n",
       "City       0.000000\n",
       "Sport      0.000000\n",
       "Event      0.000000\n",
       "Medal     85.253598\n",
       "dtype: float64"
      ]
     },
     "execution_count": 56,
     "metadata": {},
     "output_type": "execute_result"
    }
   ],
   "source": [
    "#Pourcentage des valeurs manquantes dans chaque colonne de mon datframe de travail\n",
    "donnees.isna().sum()*100/donnees.shape[0]"
   ]
  },
  {
   "cell_type": "markdown",
   "metadata": {},
   "source": [
    "Hors mis les colonnes Height, Weight et Medals, je vois que les autres colonnes renferment peu de valeurs manquantes et donc pour traiter les valeurs manquantes \n",
    "je procedérai comme suiit\n",
    "1) pour les colonnes Weight et Height, je vais remplacer les valeurs manquantes par leurs valeurs moyenne correspondantes\n",
    "2) Pour la colonne Medals je remplacerai les valeurs manquantes par une modalité que je nomme non_medal donc toute personne aynat une valeur manquante en \n",
    "Medal sera considéré comme n'anay eu aucun medal ainsi la colonne médale contient quatre modalité:\n",
    "2) pour les autres colonnes je vais tous simplement supprimer les lignes contenants au moins une valeurs manquantes en ces colonnes "
   ]
  },
  {
   "cell_type": "markdown",
   "metadata": {},
   "source": [
    "Traitement des valeurs manquantes sur les colonnes Weight , Height et Medal ."
   ]
  },
  {
   "cell_type": "code",
   "execution_count": 67,
   "metadata": {},
   "outputs": [
    {
     "name": "stderr",
     "output_type": "stream",
     "text": [
      "C:\\Users\\DIONE Oumar\\AppData\\Local\\Temp\\ipykernel_20280\\2788095255.py:4: SettingWithCopyWarning: \n",
      "A value is trying to be set on a copy of a slice from a DataFrame.\n",
      "Try using .loc[row_indexer,col_indexer] = value instead\n",
      "\n",
      "See the caveats in the documentation: https://pandas.pydata.org/pandas-docs/stable/user_guide/indexing.html#returning-a-view-versus-a-copy\n",
      "  donnees.fillna(value= {'Height':mean_value_Height,'Weight':mean_value_weight, 'Medal': 'not_medal'},inplace=True)\n"
     ]
    }
   ],
   "source": [
    "# la valeur moyenne de la variable taille\n",
    "mean_value_Height=donnees['Height'].mean()\n",
    "mean_value_weight=donnees['Weight'].mean()\n",
    "donnees.fillna(value= {'Height':mean_value_Height,'Weight':mean_value_weight, 'Medal': 'not_medal'},inplace=True)"
   ]
  },
  {
   "cell_type": "code",
   "execution_count": 68,
   "metadata": {},
   "outputs": [
    {
     "data": {
      "text/html": [
       "<div>\n",
       "<style scoped>\n",
       "    .dataframe tbody tr th:only-of-type {\n",
       "        vertical-align: middle;\n",
       "    }\n",
       "\n",
       "    .dataframe tbody tr th {\n",
       "        vertical-align: top;\n",
       "    }\n",
       "\n",
       "    .dataframe thead th {\n",
       "        text-align: right;\n",
       "    }\n",
       "</style>\n",
       "<table border=\"1\" class=\"dataframe\">\n",
       "  <thead>\n",
       "    <tr style=\"text-align: right;\">\n",
       "      <th></th>\n",
       "      <th>Sex</th>\n",
       "      <th>Age</th>\n",
       "      <th>Height</th>\n",
       "      <th>Weight</th>\n",
       "      <th>Team</th>\n",
       "      <th>NOC</th>\n",
       "      <th>Games</th>\n",
       "      <th>Year</th>\n",
       "      <th>Season</th>\n",
       "      <th>City</th>\n",
       "      <th>Sport</th>\n",
       "      <th>Event</th>\n",
       "      <th>Medal</th>\n",
       "    </tr>\n",
       "    <tr>\n",
       "      <th>Name</th>\n",
       "      <th></th>\n",
       "      <th></th>\n",
       "      <th></th>\n",
       "      <th></th>\n",
       "      <th></th>\n",
       "      <th></th>\n",
       "      <th></th>\n",
       "      <th></th>\n",
       "      <th></th>\n",
       "      <th></th>\n",
       "      <th></th>\n",
       "      <th></th>\n",
       "      <th></th>\n",
       "    </tr>\n",
       "  </thead>\n",
       "  <tbody>\n",
       "    <tr>\n",
       "      <th>A Dijiang</th>\n",
       "      <td>M</td>\n",
       "      <td>24.0</td>\n",
       "      <td>180.00000</td>\n",
       "      <td>80.000000</td>\n",
       "      <td>China</td>\n",
       "      <td>CHN</td>\n",
       "      <td>1992 Summer</td>\n",
       "      <td>1992</td>\n",
       "      <td>Summer</td>\n",
       "      <td>Barcelona</td>\n",
       "      <td>Basketball</td>\n",
       "      <td>Basketball Men's Basketball</td>\n",
       "      <td>not_medal</td>\n",
       "    </tr>\n",
       "    <tr>\n",
       "      <th>A Lamusi</th>\n",
       "      <td>M</td>\n",
       "      <td>23.0</td>\n",
       "      <td>170.00000</td>\n",
       "      <td>60.000000</td>\n",
       "      <td>China</td>\n",
       "      <td>CHN</td>\n",
       "      <td>2012 Summer</td>\n",
       "      <td>2012</td>\n",
       "      <td>Summer</td>\n",
       "      <td>London</td>\n",
       "      <td>Judo</td>\n",
       "      <td>Judo Men's Extra-Lightweight</td>\n",
       "      <td>not_medal</td>\n",
       "    </tr>\n",
       "    <tr>\n",
       "      <th>Gunnar Nielsen Aaby</th>\n",
       "      <td>M</td>\n",
       "      <td>24.0</td>\n",
       "      <td>175.33733</td>\n",
       "      <td>70.700712</td>\n",
       "      <td>Denmark</td>\n",
       "      <td>DEN</td>\n",
       "      <td>1920 Summer</td>\n",
       "      <td>1920</td>\n",
       "      <td>Summer</td>\n",
       "      <td>Antwerpen</td>\n",
       "      <td>Football</td>\n",
       "      <td>Football Men's Football</td>\n",
       "      <td>not_medal</td>\n",
       "    </tr>\n",
       "    <tr>\n",
       "      <th>Edgar Lindenau Aabye</th>\n",
       "      <td>M</td>\n",
       "      <td>34.0</td>\n",
       "      <td>175.33733</td>\n",
       "      <td>70.700712</td>\n",
       "      <td>Denmark/Sweden</td>\n",
       "      <td>DEN</td>\n",
       "      <td>1900 Summer</td>\n",
       "      <td>1900</td>\n",
       "      <td>Summer</td>\n",
       "      <td>Paris</td>\n",
       "      <td>Tug-Of-War</td>\n",
       "      <td>Tug-Of-War Men's Tug-Of-War</td>\n",
       "      <td>Gold</td>\n",
       "    </tr>\n",
       "    <tr>\n",
       "      <th>Christine Jacoba Aaftink</th>\n",
       "      <td>F</td>\n",
       "      <td>21.0</td>\n",
       "      <td>185.00000</td>\n",
       "      <td>82.000000</td>\n",
       "      <td>Netherlands</td>\n",
       "      <td>NED</td>\n",
       "      <td>1988 Winter</td>\n",
       "      <td>1988</td>\n",
       "      <td>Winter</td>\n",
       "      <td>Calgary</td>\n",
       "      <td>Speed Skating</td>\n",
       "      <td>Speed Skating Women's 500 metres</td>\n",
       "      <td>not_medal</td>\n",
       "    </tr>\n",
       "    <tr>\n",
       "      <th>Christine Jacoba Aaftink</th>\n",
       "      <td>F</td>\n",
       "      <td>21.0</td>\n",
       "      <td>185.00000</td>\n",
       "      <td>82.000000</td>\n",
       "      <td>Netherlands</td>\n",
       "      <td>NED</td>\n",
       "      <td>1988 Winter</td>\n",
       "      <td>1988</td>\n",
       "      <td>Winter</td>\n",
       "      <td>Calgary</td>\n",
       "      <td>Speed Skating</td>\n",
       "      <td>Speed Skating Women's 1,000 metres</td>\n",
       "      <td>not_medal</td>\n",
       "    </tr>\n",
       "    <tr>\n",
       "      <th>Christine Jacoba Aaftink</th>\n",
       "      <td>F</td>\n",
       "      <td>25.0</td>\n",
       "      <td>185.00000</td>\n",
       "      <td>82.000000</td>\n",
       "      <td>Netherlands</td>\n",
       "      <td>NED</td>\n",
       "      <td>1992 Winter</td>\n",
       "      <td>1992</td>\n",
       "      <td>Winter</td>\n",
       "      <td>Albertville</td>\n",
       "      <td>Speed Skating</td>\n",
       "      <td>Speed Skating Women's 500 metres</td>\n",
       "      <td>not_medal</td>\n",
       "    </tr>\n",
       "    <tr>\n",
       "      <th>Christine Jacoba Aaftink</th>\n",
       "      <td>F</td>\n",
       "      <td>25.0</td>\n",
       "      <td>185.00000</td>\n",
       "      <td>82.000000</td>\n",
       "      <td>Netherlands</td>\n",
       "      <td>NED</td>\n",
       "      <td>1992 Winter</td>\n",
       "      <td>1992</td>\n",
       "      <td>Winter</td>\n",
       "      <td>Albertville</td>\n",
       "      <td>Speed Skating</td>\n",
       "      <td>Speed Skating Women's 1,000 metres</td>\n",
       "      <td>not_medal</td>\n",
       "    </tr>\n",
       "    <tr>\n",
       "      <th>Christine Jacoba Aaftink</th>\n",
       "      <td>F</td>\n",
       "      <td>27.0</td>\n",
       "      <td>185.00000</td>\n",
       "      <td>82.000000</td>\n",
       "      <td>Netherlands</td>\n",
       "      <td>NED</td>\n",
       "      <td>1994 Winter</td>\n",
       "      <td>1994</td>\n",
       "      <td>Winter</td>\n",
       "      <td>Lillehammer</td>\n",
       "      <td>Speed Skating</td>\n",
       "      <td>Speed Skating Women's 500 metres</td>\n",
       "      <td>not_medal</td>\n",
       "    </tr>\n",
       "    <tr>\n",
       "      <th>Christine Jacoba Aaftink</th>\n",
       "      <td>F</td>\n",
       "      <td>27.0</td>\n",
       "      <td>185.00000</td>\n",
       "      <td>82.000000</td>\n",
       "      <td>Netherlands</td>\n",
       "      <td>NED</td>\n",
       "      <td>1994 Winter</td>\n",
       "      <td>1994</td>\n",
       "      <td>Winter</td>\n",
       "      <td>Lillehammer</td>\n",
       "      <td>Speed Skating</td>\n",
       "      <td>Speed Skating Women's 1,000 metres</td>\n",
       "      <td>not_medal</td>\n",
       "    </tr>\n",
       "  </tbody>\n",
       "</table>\n",
       "</div>"
      ],
      "text/plain": [
       "                         Sex   Age     Height     Weight            Team  NOC  \\\n",
       "Name                                                                            \n",
       "A Dijiang                  M  24.0  180.00000  80.000000           China  CHN   \n",
       "A Lamusi                   M  23.0  170.00000  60.000000           China  CHN   \n",
       "Gunnar Nielsen Aaby        M  24.0  175.33733  70.700712         Denmark  DEN   \n",
       "Edgar Lindenau Aabye       M  34.0  175.33733  70.700712  Denmark/Sweden  DEN   \n",
       "Christine Jacoba Aaftink   F  21.0  185.00000  82.000000     Netherlands  NED   \n",
       "Christine Jacoba Aaftink   F  21.0  185.00000  82.000000     Netherlands  NED   \n",
       "Christine Jacoba Aaftink   F  25.0  185.00000  82.000000     Netherlands  NED   \n",
       "Christine Jacoba Aaftink   F  25.0  185.00000  82.000000     Netherlands  NED   \n",
       "Christine Jacoba Aaftink   F  27.0  185.00000  82.000000     Netherlands  NED   \n",
       "Christine Jacoba Aaftink   F  27.0  185.00000  82.000000     Netherlands  NED   \n",
       "\n",
       "                                Games  Year  Season         City  \\\n",
       "Name                                                               \n",
       "A Dijiang                 1992 Summer  1992  Summer    Barcelona   \n",
       "A Lamusi                  2012 Summer  2012  Summer       London   \n",
       "Gunnar Nielsen Aaby       1920 Summer  1920  Summer    Antwerpen   \n",
       "Edgar Lindenau Aabye      1900 Summer  1900  Summer        Paris   \n",
       "Christine Jacoba Aaftink  1988 Winter  1988  Winter      Calgary   \n",
       "Christine Jacoba Aaftink  1988 Winter  1988  Winter      Calgary   \n",
       "Christine Jacoba Aaftink  1992 Winter  1992  Winter  Albertville   \n",
       "Christine Jacoba Aaftink  1992 Winter  1992  Winter  Albertville   \n",
       "Christine Jacoba Aaftink  1994 Winter  1994  Winter  Lillehammer   \n",
       "Christine Jacoba Aaftink  1994 Winter  1994  Winter  Lillehammer   \n",
       "\n",
       "                                  Sport                               Event  \\\n",
       "Name                                                                          \n",
       "A Dijiang                    Basketball         Basketball Men's Basketball   \n",
       "A Lamusi                           Judo        Judo Men's Extra-Lightweight   \n",
       "Gunnar Nielsen Aaby            Football             Football Men's Football   \n",
       "Edgar Lindenau Aabye         Tug-Of-War         Tug-Of-War Men's Tug-Of-War   \n",
       "Christine Jacoba Aaftink  Speed Skating    Speed Skating Women's 500 metres   \n",
       "Christine Jacoba Aaftink  Speed Skating  Speed Skating Women's 1,000 metres   \n",
       "Christine Jacoba Aaftink  Speed Skating    Speed Skating Women's 500 metres   \n",
       "Christine Jacoba Aaftink  Speed Skating  Speed Skating Women's 1,000 metres   \n",
       "Christine Jacoba Aaftink  Speed Skating    Speed Skating Women's 500 metres   \n",
       "Christine Jacoba Aaftink  Speed Skating  Speed Skating Women's 1,000 metres   \n",
       "\n",
       "                              Medal  \n",
       "Name                                 \n",
       "A Dijiang                 not_medal  \n",
       "A Lamusi                  not_medal  \n",
       "Gunnar Nielsen Aaby       not_medal  \n",
       "Edgar Lindenau Aabye           Gold  \n",
       "Christine Jacoba Aaftink  not_medal  \n",
       "Christine Jacoba Aaftink  not_medal  \n",
       "Christine Jacoba Aaftink  not_medal  \n",
       "Christine Jacoba Aaftink  not_medal  \n",
       "Christine Jacoba Aaftink  not_medal  \n",
       "Christine Jacoba Aaftink  not_medal  "
      ]
     },
     "execution_count": 68,
     "metadata": {},
     "output_type": "execute_result"
    }
   ],
   "source": [
    "# aperçu de mon Dataframe  transformé\n",
    "donnees.head(10)"
   ]
  },
  {
   "cell_type": "code",
   "execution_count": 69,
   "metadata": {},
   "outputs": [
    {
     "data": {
      "text/plain": [
       "Sex       0.000000\n",
       "Age       1.992996\n",
       "Height    0.000000\n",
       "Weight    0.000000\n",
       "Team      0.000000\n",
       "NOC       0.000000\n",
       "Games     0.000000\n",
       "Year      0.000000\n",
       "Season    0.000000\n",
       "City      0.000000\n",
       "Sport     0.000000\n",
       "Event     0.000000\n",
       "Medal     0.000000\n",
       "dtype: float64"
      ]
     },
     "execution_count": 69,
     "metadata": {},
     "output_type": "execute_result"
    }
   ],
   "source": [
    "#Vérification\n",
    "donnees.isna().sum()*100/donnees.shape[0]"
   ]
  },
  {
   "cell_type": "markdown",
   "metadata": {},
   "source": [
    "Traitement des données manquantes sur les autres colonnes  (simple suppression des lignes correspondantes)"
   ]
  },
  {
   "cell_type": "code",
   "execution_count": 70,
   "metadata": {},
   "outputs": [],
   "source": [
    "work_df=donnees.dropna()"
   ]
  },
  {
   "cell_type": "code",
   "execution_count": 72,
   "metadata": {},
   "outputs": [
    {
     "data": {
      "text/plain": [
       "Sex       0\n",
       "Age       0\n",
       "Height    0\n",
       "Weight    0\n",
       "Team      0\n",
       "NOC       0\n",
       "Games     0\n",
       "Year      0\n",
       "Season    0\n",
       "City      0\n",
       "Sport     0\n",
       "Event     0\n",
       "Medal     0\n",
       "dtype: int64"
      ]
     },
     "execution_count": 72,
     "metadata": {},
     "output_type": "execute_result"
    }
   ],
   "source": [
    "#verifications\n",
    "work_df.isna().sum()"
   ]
  },
  {
   "cell_type": "markdown",
   "metadata": {},
   "source": [
    "STRUCTURE de mon dataset de travail"
   ]
  },
  {
   "cell_type": "code",
   "execution_count": 75,
   "metadata": {},
   "outputs": [
    {
     "data": {
      "text/plain": [
       "(254681, 13)"
      ]
     },
     "execution_count": 75,
     "metadata": {},
     "output_type": "execute_result"
    }
   ],
   "source": [
    "n_bre_ligne=work_df.shape[0]\n",
    "n_bre_col=work_df.shape[1] \n",
    "n_bre_ligne,n_bre_col\n"
   ]
  },
  {
   "cell_type": "code",
   "execution_count": 93,
   "metadata": {},
   "outputs": [
    {
     "data": {
      "text/plain": [
       "Index(['Sex', 'Age', 'Height', 'Weight', 'Team', 'NOC', 'Games', 'Year',\n",
       "       'Season', 'City', 'Sport', 'Event', 'Medal'],\n",
       "      dtype='object')"
      ]
     },
     "execution_count": 93,
     "metadata": {},
     "output_type": "execute_result"
    }
   ],
   "source": [
    "mes_colonnes=work_df.columns\n",
    "mes_colonnes"
   ]
  },
  {
   "cell_type": "code",
   "execution_count": 94,
   "metadata": {},
   "outputs": [
    {
     "data": {
      "text/plain": [
       "Sex        object\n",
       "Age       float64\n",
       "Height    float64\n",
       "Weight    float64\n",
       "Team       object\n",
       "NOC        object\n",
       "Games      object\n",
       "Year        int64\n",
       "Season     object\n",
       "City       object\n",
       "Sport      object\n",
       "Event      object\n",
       "Medal      object\n",
       "dtype: object"
      ]
     },
     "execution_count": 94,
     "metadata": {},
     "output_type": "execute_result"
    }
   ],
   "source": [
    "mes_types=work_df.dtypes\n",
    "mes_types\n"
   ]
  },
  {
   "cell_type": "code",
   "execution_count": 95,
   "metadata": {},
   "outputs": [
    {
     "data": {
      "text/plain": [
       "Index(['Age', 'Height', 'Weight', 'Year'], dtype='object')"
      ]
     },
     "execution_count": 95,
     "metadata": {},
     "output_type": "execute_result"
    }
   ],
   "source": [
    "mes_colonnes_numeriques=mes_colonnes[(work_df.dtypes.values=='float64') | (work_df.dtypes.values=='int64')]\n",
    "mes_colonnes_numeriques"
   ]
  },
  {
   "cell_type": "code",
   "execution_count": 96,
   "metadata": {},
   "outputs": [
    {
     "data": {
      "text/plain": [
       "Index(['Sex', 'Team', 'NOC', 'Games', 'Season', 'City', 'Sport', 'Event',\n",
       "       'Medal'],\n",
       "      dtype='object')"
      ]
     },
     "execution_count": 96,
     "metadata": {},
     "output_type": "execute_result"
    }
   ],
   "source": [
    "mes_colonnes_objet=mes_colonnes[(work_df.dtypes.values!='float64') & (work_df.dtypes.values!='int64')]\n",
    "mes_colonnes_objet"
   ]
  },
  {
   "cell_type": "markdown",
   "metadata": {},
   "source": [
    "STATISTIQUE DESCRIPTIVE"
   ]
  },
  {
   "cell_type": "code",
   "execution_count": null,
   "metadata": {},
   "outputs": [],
   "source": [
    "# COMPARASON ENTRE PAYS ? ENTRE SEXE?"
   ]
  },
  {
   "cell_type": "code",
   "execution_count": 110,
   "metadata": {},
   "outputs": [
    {
     "data": {
      "text/html": [
       "<div>\n",
       "<style scoped>\n",
       "    .dataframe tbody tr th:only-of-type {\n",
       "        vertical-align: middle;\n",
       "    }\n",
       "\n",
       "    .dataframe tbody tr th {\n",
       "        vertical-align: top;\n",
       "    }\n",
       "\n",
       "    .dataframe thead th {\n",
       "        text-align: right;\n",
       "    }\n",
       "</style>\n",
       "<table border=\"1\" class=\"dataframe\">\n",
       "  <thead>\n",
       "    <tr style=\"text-align: right;\">\n",
       "      <th></th>\n",
       "      <th>Sex</th>\n",
       "      <th>Age</th>\n",
       "      <th>Height</th>\n",
       "      <th>Weight</th>\n",
       "      <th>Team</th>\n",
       "      <th>NOC</th>\n",
       "      <th>Games</th>\n",
       "      <th>Year</th>\n",
       "      <th>Season</th>\n",
       "      <th>City</th>\n",
       "      <th>Sport</th>\n",
       "      <th>Event</th>\n",
       "      <th>Medal</th>\n",
       "    </tr>\n",
       "  </thead>\n",
       "  <tbody>\n",
       "    <tr>\n",
       "      <th>count</th>\n",
       "      <td>254681</td>\n",
       "      <td>254681.000000</td>\n",
       "      <td>254681.000000</td>\n",
       "      <td>254681.000000</td>\n",
       "      <td>254681</td>\n",
       "      <td>254681</td>\n",
       "      <td>254681</td>\n",
       "      <td>254681.000000</td>\n",
       "      <td>254681</td>\n",
       "      <td>254681</td>\n",
       "      <td>254681</td>\n",
       "      <td>254681</td>\n",
       "      <td>254681</td>\n",
       "    </tr>\n",
       "    <tr>\n",
       "      <th>unique</th>\n",
       "      <td>2</td>\n",
       "      <td>NaN</td>\n",
       "      <td>NaN</td>\n",
       "      <td>NaN</td>\n",
       "      <td>1109</td>\n",
       "      <td>228</td>\n",
       "      <td>51</td>\n",
       "      <td>NaN</td>\n",
       "      <td>2</td>\n",
       "      <td>42</td>\n",
       "      <td>66</td>\n",
       "      <td>757</td>\n",
       "      <td>4</td>\n",
       "    </tr>\n",
       "    <tr>\n",
       "      <th>top</th>\n",
       "      <td>M</td>\n",
       "      <td>NaN</td>\n",
       "      <td>NaN</td>\n",
       "      <td>NaN</td>\n",
       "      <td>United States</td>\n",
       "      <td>USA</td>\n",
       "      <td>2000 Summer</td>\n",
       "      <td>NaN</td>\n",
       "      <td>Summer</td>\n",
       "      <td>London</td>\n",
       "      <td>Athletics</td>\n",
       "      <td>Football Men's Football</td>\n",
       "      <td>not_medal</td>\n",
       "    </tr>\n",
       "    <tr>\n",
       "      <th>freq</th>\n",
       "      <td>181311</td>\n",
       "      <td>NaN</td>\n",
       "      <td>NaN</td>\n",
       "      <td>NaN</td>\n",
       "      <td>16866</td>\n",
       "      <td>17778</td>\n",
       "      <td>13795</td>\n",
       "      <td>NaN</td>\n",
       "      <td>207122</td>\n",
       "      <td>19808</td>\n",
       "      <td>37231</td>\n",
       "      <td>4667</td>\n",
       "      <td>216741</td>\n",
       "    </tr>\n",
       "    <tr>\n",
       "      <th>mean</th>\n",
       "      <td>NaN</td>\n",
       "      <td>25.455935</td>\n",
       "      <td>175.347521</td>\n",
       "      <td>70.708861</td>\n",
       "      <td>NaN</td>\n",
       "      <td>NaN</td>\n",
       "      <td>NaN</td>\n",
       "      <td>1981.164390</td>\n",
       "      <td>NaN</td>\n",
       "      <td>NaN</td>\n",
       "      <td>NaN</td>\n",
       "      <td>NaN</td>\n",
       "      <td>NaN</td>\n",
       "    </tr>\n",
       "    <tr>\n",
       "      <th>std</th>\n",
       "      <td>NaN</td>\n",
       "      <td>6.156564</td>\n",
       "      <td>9.549937</td>\n",
       "      <td>12.948399</td>\n",
       "      <td>NaN</td>\n",
       "      <td>NaN</td>\n",
       "      <td>NaN</td>\n",
       "      <td>27.955421</td>\n",
       "      <td>NaN</td>\n",
       "      <td>NaN</td>\n",
       "      <td>NaN</td>\n",
       "      <td>NaN</td>\n",
       "      <td>NaN</td>\n",
       "    </tr>\n",
       "    <tr>\n",
       "      <th>min</th>\n",
       "      <td>NaN</td>\n",
       "      <td>10.000000</td>\n",
       "      <td>127.000000</td>\n",
       "      <td>25.000000</td>\n",
       "      <td>NaN</td>\n",
       "      <td>NaN</td>\n",
       "      <td>NaN</td>\n",
       "      <td>1896.000000</td>\n",
       "      <td>NaN</td>\n",
       "      <td>NaN</td>\n",
       "      <td>NaN</td>\n",
       "      <td>NaN</td>\n",
       "      <td>NaN</td>\n",
       "    </tr>\n",
       "    <tr>\n",
       "      <th>25%</th>\n",
       "      <td>NaN</td>\n",
       "      <td>21.000000</td>\n",
       "      <td>170.000000</td>\n",
       "      <td>63.000000</td>\n",
       "      <td>NaN</td>\n",
       "      <td>NaN</td>\n",
       "      <td>NaN</td>\n",
       "      <td>1964.000000</td>\n",
       "      <td>NaN</td>\n",
       "      <td>NaN</td>\n",
       "      <td>NaN</td>\n",
       "      <td>NaN</td>\n",
       "      <td>NaN</td>\n",
       "    </tr>\n",
       "    <tr>\n",
       "      <th>50%</th>\n",
       "      <td>NaN</td>\n",
       "      <td>24.000000</td>\n",
       "      <td>175.337330</td>\n",
       "      <td>70.700712</td>\n",
       "      <td>NaN</td>\n",
       "      <td>NaN</td>\n",
       "      <td>NaN</td>\n",
       "      <td>1988.000000</td>\n",
       "      <td>NaN</td>\n",
       "      <td>NaN</td>\n",
       "      <td>NaN</td>\n",
       "      <td>NaN</td>\n",
       "      <td>NaN</td>\n",
       "    </tr>\n",
       "    <tr>\n",
       "      <th>75%</th>\n",
       "      <td>NaN</td>\n",
       "      <td>28.000000</td>\n",
       "      <td>181.000000</td>\n",
       "      <td>76.000000</td>\n",
       "      <td>NaN</td>\n",
       "      <td>NaN</td>\n",
       "      <td>NaN</td>\n",
       "      <td>2004.000000</td>\n",
       "      <td>NaN</td>\n",
       "      <td>NaN</td>\n",
       "      <td>NaN</td>\n",
       "      <td>NaN</td>\n",
       "      <td>NaN</td>\n",
       "    </tr>\n",
       "    <tr>\n",
       "      <th>max</th>\n",
       "      <td>NaN</td>\n",
       "      <td>97.000000</td>\n",
       "      <td>226.000000</td>\n",
       "      <td>214.000000</td>\n",
       "      <td>NaN</td>\n",
       "      <td>NaN</td>\n",
       "      <td>NaN</td>\n",
       "      <td>2016.000000</td>\n",
       "      <td>NaN</td>\n",
       "      <td>NaN</td>\n",
       "      <td>NaN</td>\n",
       "      <td>NaN</td>\n",
       "      <td>NaN</td>\n",
       "    </tr>\n",
       "  </tbody>\n",
       "</table>\n",
       "</div>"
      ],
      "text/plain": [
       "           Sex            Age         Height         Weight           Team  \\\n",
       "count   254681  254681.000000  254681.000000  254681.000000         254681   \n",
       "unique       2            NaN            NaN            NaN           1109   \n",
       "top          M            NaN            NaN            NaN  United States   \n",
       "freq    181311            NaN            NaN            NaN          16866   \n",
       "mean       NaN      25.455935     175.347521      70.708861            NaN   \n",
       "std        NaN       6.156564       9.549937      12.948399            NaN   \n",
       "min        NaN      10.000000     127.000000      25.000000            NaN   \n",
       "25%        NaN      21.000000     170.000000      63.000000            NaN   \n",
       "50%        NaN      24.000000     175.337330      70.700712            NaN   \n",
       "75%        NaN      28.000000     181.000000      76.000000            NaN   \n",
       "max        NaN      97.000000     226.000000     214.000000            NaN   \n",
       "\n",
       "           NOC        Games           Year  Season    City      Sport  \\\n",
       "count   254681       254681  254681.000000  254681  254681     254681   \n",
       "unique     228           51            NaN       2      42         66   \n",
       "top        USA  2000 Summer            NaN  Summer  London  Athletics   \n",
       "freq     17778        13795            NaN  207122   19808      37231   \n",
       "mean       NaN          NaN    1981.164390     NaN     NaN        NaN   \n",
       "std        NaN          NaN      27.955421     NaN     NaN        NaN   \n",
       "min        NaN          NaN    1896.000000     NaN     NaN        NaN   \n",
       "25%        NaN          NaN    1964.000000     NaN     NaN        NaN   \n",
       "50%        NaN          NaN    1988.000000     NaN     NaN        NaN   \n",
       "75%        NaN          NaN    2004.000000     NaN     NaN        NaN   \n",
       "max        NaN          NaN    2016.000000     NaN     NaN        NaN   \n",
       "\n",
       "                          Event      Medal  \n",
       "count                    254681     254681  \n",
       "unique                      757          4  \n",
       "top     Football Men's Football  not_medal  \n",
       "freq                       4667     216741  \n",
       "mean                        NaN        NaN  \n",
       "std                         NaN        NaN  \n",
       "min                         NaN        NaN  \n",
       "25%                         NaN        NaN  \n",
       "50%                         NaN        NaN  \n",
       "75%                         NaN        NaN  \n",
       "max                         NaN        NaN  "
      ]
     },
     "execution_count": 110,
     "metadata": {},
     "output_type": "execute_result"
    }
   ],
   "source": [
    "work_df.describe(include='all')"
   ]
  },
  {
   "cell_type": "markdown",
   "metadata": {},
   "source": [
    "AU NIVEAU DES PAYS"
   ]
  },
  {
   "cell_type": "code",
   "execution_count": 117,
   "metadata": {},
   "outputs": [
    {
     "data": {
      "text/plain": [
       "[0.1, 0.2, 0.3, 0.4, 0.5, 0.6, 0.7, 0.8, 0.9, 1.0]"
      ]
     },
     "execution_count": 117,
     "metadata": {},
     "output_type": "execute_result"
    }
   ],
   "source": [
    "pers=[i/10 for i in range(1,11)]\n",
    "pers"
   ]
  },
  {
   "cell_type": "code",
   "execution_count": 118,
   "metadata": {},
   "outputs": [
    {
     "data": {
      "text/html": [
       "<div>\n",
       "<style scoped>\n",
       "    .dataframe tbody tr th:only-of-type {\n",
       "        vertical-align: middle;\n",
       "    }\n",
       "\n",
       "    .dataframe tbody tr th {\n",
       "        vertical-align: top;\n",
       "    }\n",
       "\n",
       "    .dataframe thead th {\n",
       "        text-align: right;\n",
       "    }\n",
       "</style>\n",
       "<table border=\"1\" class=\"dataframe\">\n",
       "  <thead>\n",
       "    <tr style=\"text-align: right;\">\n",
       "      <th></th>\n",
       "      <th>Team</th>\n",
       "    </tr>\n",
       "  </thead>\n",
       "  <tbody>\n",
       "    <tr>\n",
       "      <th>count</th>\n",
       "      <td>254681</td>\n",
       "    </tr>\n",
       "    <tr>\n",
       "      <th>unique</th>\n",
       "      <td>1109</td>\n",
       "    </tr>\n",
       "    <tr>\n",
       "      <th>top</th>\n",
       "      <td>United States</td>\n",
       "    </tr>\n",
       "    <tr>\n",
       "      <th>freq</th>\n",
       "      <td>16866</td>\n",
       "    </tr>\n",
       "  </tbody>\n",
       "</table>\n",
       "</div>"
      ],
      "text/plain": [
       "                 Team\n",
       "count          254681\n",
       "unique           1109\n",
       "top     United States\n",
       "freq            16866"
      ]
     },
     "execution_count": 118,
     "metadata": {},
     "output_type": "execute_result"
    }
   ],
   "source": [
    "work_df[[\"Team\"]].describe(percentiles=pers)"
   ]
  }
 ],
 "metadata": {
  "kernelspec": {
   "display_name": "base",
   "language": "python",
   "name": "python3"
  },
  "language_info": {
   "codemirror_mode": {
    "name": "ipython",
    "version": 3
   },
   "file_extension": ".py",
   "mimetype": "text/x-python",
   "name": "python",
   "nbconvert_exporter": "python",
   "pygments_lexer": "ipython3",
   "version": "3.9.13"
  },
  "orig_nbformat": 4
 },
 "nbformat": 4,
 "nbformat_minor": 2
}
